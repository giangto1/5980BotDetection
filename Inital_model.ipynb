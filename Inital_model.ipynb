{
 "cells": [
  {
   "cell_type": "code",
   "execution_count": 1,
   "id": "eb4ac8bd-257d-40ed-ae24-7bf6088ce7cd",
   "metadata": {},
   "outputs": [
    {
     "data": {
      "text/html": [
       "<div>\n",
       "<style scoped>\n",
       "    .dataframe tbody tr th:only-of-type {\n",
       "        vertical-align: middle;\n",
       "    }\n",
       "\n",
       "    .dataframe tbody tr th {\n",
       "        vertical-align: top;\n",
       "    }\n",
       "\n",
       "    .dataframe thead th {\n",
       "        text-align: right;\n",
       "    }\n",
       "</style>\n",
       "<table border=\"1\" class=\"dataframe\">\n",
       "  <thead>\n",
       "    <tr style=\"text-align: right;\">\n",
       "      <th></th>\n",
       "      <th>User ID</th>\n",
       "      <th>Username</th>\n",
       "      <th>Tweet</th>\n",
       "      <th>Retweet Count</th>\n",
       "      <th>Mention Count</th>\n",
       "      <th>Follower Count</th>\n",
       "      <th>Verified</th>\n",
       "      <th>Bot Label</th>\n",
       "      <th>Location</th>\n",
       "      <th>Created At</th>\n",
       "      <th>Hashtags</th>\n",
       "    </tr>\n",
       "  </thead>\n",
       "  <tbody>\n",
       "    <tr>\n",
       "      <th>0</th>\n",
       "      <td>132131</td>\n",
       "      <td>flong</td>\n",
       "      <td>Station activity person against natural majori...</td>\n",
       "      <td>85</td>\n",
       "      <td>1</td>\n",
       "      <td>2353</td>\n",
       "      <td>False</td>\n",
       "      <td>1</td>\n",
       "      <td>Adkinston</td>\n",
       "      <td>2020-05-11 15:29:50</td>\n",
       "      <td>NaN</td>\n",
       "    </tr>\n",
       "    <tr>\n",
       "      <th>1</th>\n",
       "      <td>289683</td>\n",
       "      <td>hinesstephanie</td>\n",
       "      <td>Authority research natural life material staff...</td>\n",
       "      <td>55</td>\n",
       "      <td>5</td>\n",
       "      <td>9617</td>\n",
       "      <td>True</td>\n",
       "      <td>0</td>\n",
       "      <td>Sanderston</td>\n",
       "      <td>2022-11-26 05:18:10</td>\n",
       "      <td>both live</td>\n",
       "    </tr>\n",
       "    <tr>\n",
       "      <th>2</th>\n",
       "      <td>779715</td>\n",
       "      <td>roberttran</td>\n",
       "      <td>Manage whose quickly especially foot none to g...</td>\n",
       "      <td>6</td>\n",
       "      <td>2</td>\n",
       "      <td>4363</td>\n",
       "      <td>True</td>\n",
       "      <td>0</td>\n",
       "      <td>Harrisonfurt</td>\n",
       "      <td>2022-08-08 03:16:54</td>\n",
       "      <td>phone ahead</td>\n",
       "    </tr>\n",
       "    <tr>\n",
       "      <th>3</th>\n",
       "      <td>696168</td>\n",
       "      <td>pmason</td>\n",
       "      <td>Just cover eight opportunity strong policy which.</td>\n",
       "      <td>54</td>\n",
       "      <td>5</td>\n",
       "      <td>2242</td>\n",
       "      <td>True</td>\n",
       "      <td>1</td>\n",
       "      <td>Martinezberg</td>\n",
       "      <td>2021-08-14 22:27:05</td>\n",
       "      <td>ever quickly new I</td>\n",
       "    </tr>\n",
       "    <tr>\n",
       "      <th>4</th>\n",
       "      <td>704441</td>\n",
       "      <td>noah87</td>\n",
       "      <td>Animal sign six data good or.</td>\n",
       "      <td>26</td>\n",
       "      <td>3</td>\n",
       "      <td>8438</td>\n",
       "      <td>False</td>\n",
       "      <td>1</td>\n",
       "      <td>Camachoville</td>\n",
       "      <td>2020-04-13 21:24:21</td>\n",
       "      <td>foreign mention</td>\n",
       "    </tr>\n",
       "  </tbody>\n",
       "</table>\n",
       "</div>"
      ],
      "text/plain": [
       "   User ID        Username                                              Tweet  \\\n",
       "0   132131           flong  Station activity person against natural majori...   \n",
       "1   289683  hinesstephanie  Authority research natural life material staff...   \n",
       "2   779715      roberttran  Manage whose quickly especially foot none to g...   \n",
       "3   696168          pmason  Just cover eight opportunity strong policy which.   \n",
       "4   704441          noah87                      Animal sign six data good or.   \n",
       "\n",
       "   Retweet Count  Mention Count  Follower Count  Verified  Bot Label  \\\n",
       "0             85              1            2353     False          1   \n",
       "1             55              5            9617      True          0   \n",
       "2              6              2            4363      True          0   \n",
       "3             54              5            2242      True          1   \n",
       "4             26              3            8438     False          1   \n",
       "\n",
       "       Location           Created At            Hashtags  \n",
       "0     Adkinston  2020-05-11 15:29:50                 NaN  \n",
       "1    Sanderston  2022-11-26 05:18:10           both live  \n",
       "2  Harrisonfurt  2022-08-08 03:16:54         phone ahead  \n",
       "3  Martinezberg  2021-08-14 22:27:05  ever quickly new I  \n",
       "4  Camachoville  2020-04-13 21:24:21     foreign mention  "
      ]
     },
     "execution_count": 1,
     "metadata": {},
     "output_type": "execute_result"
    }
   ],
   "source": [
    "import json\n",
    "import pandas as pd\n",
    "\n",
    "df = pd.read_csv('bot_detection_data.csv')\n",
    "df.head()"
   ]
  },
  {
   "cell_type": "code",
   "execution_count": 25,
   "id": "29dfdb6f-fd6f-46f1-8d6c-7525d8489210",
   "metadata": {},
   "outputs": [
    {
     "name": "stdout",
     "output_type": "stream",
     "text": [
      "<class 'pandas.core.frame.DataFrame'>\n",
      "RangeIndex: 50000 entries, 0 to 49999\n",
      "Data columns (total 12 columns):\n",
      " #   Column          Non-Null Count  Dtype \n",
      "---  ------          --------------  ----- \n",
      " 0   User ID         50000 non-null  int64 \n",
      " 1   Username        50000 non-null  object\n",
      " 2   Tweet           50000 non-null  object\n",
      " 3   Retweet Count   50000 non-null  int64 \n",
      " 4   Mention Count   50000 non-null  int64 \n",
      " 5   Follower Count  50000 non-null  int64 \n",
      " 6   Verified        50000 non-null  int32 \n",
      " 7   Bot Label       50000 non-null  int64 \n",
      " 8   Location        50000 non-null  object\n",
      " 9   Created At      50000 non-null  object\n",
      " 10  Hashtags        50000 non-null  object\n",
      " 11  Hashtag Count   50000 non-null  int64 \n",
      "dtypes: int32(1), int64(6), object(5)\n",
      "memory usage: 4.4+ MB\n"
     ]
    }
   ],
   "source": [
    "df.info()"
   ]
  },
  {
   "cell_type": "code",
   "execution_count": 24,
   "id": "f5c37326-9243-451e-a868-5d22d30e4a23",
   "metadata": {},
   "outputs": [
    {
     "data": {
      "text/html": [
       "<div>\n",
       "<style scoped>\n",
       "    .dataframe tbody tr th:only-of-type {\n",
       "        vertical-align: middle;\n",
       "    }\n",
       "\n",
       "    .dataframe tbody tr th {\n",
       "        vertical-align: top;\n",
       "    }\n",
       "\n",
       "    .dataframe thead th {\n",
       "        text-align: right;\n",
       "    }\n",
       "</style>\n",
       "<table border=\"1\" class=\"dataframe\">\n",
       "  <thead>\n",
       "    <tr style=\"text-align: right;\">\n",
       "      <th></th>\n",
       "      <th>User ID</th>\n",
       "      <th>Retweet Count</th>\n",
       "      <th>Mention Count</th>\n",
       "      <th>Follower Count</th>\n",
       "      <th>Verified</th>\n",
       "      <th>Bot Label</th>\n",
       "      <th>Hashtag Count</th>\n",
       "    </tr>\n",
       "  </thead>\n",
       "  <tbody>\n",
       "    <tr>\n",
       "      <th>count</th>\n",
       "      <td>50000.000000</td>\n",
       "      <td>50000.00000</td>\n",
       "      <td>50000.000000</td>\n",
       "      <td>50000.000000</td>\n",
       "      <td>50000.000000</td>\n",
       "      <td>50000.000000</td>\n",
       "      <td>50000.000000</td>\n",
       "    </tr>\n",
       "    <tr>\n",
       "      <th>mean</th>\n",
       "      <td>548890.680540</td>\n",
       "      <td>50.00560</td>\n",
       "      <td>2.513760</td>\n",
       "      <td>4988.602380</td>\n",
       "      <td>0.500080</td>\n",
       "      <td>0.500360</td>\n",
       "      <td>0.833180</td>\n",
       "    </tr>\n",
       "    <tr>\n",
       "      <th>std</th>\n",
       "      <td>259756.681425</td>\n",
       "      <td>29.18116</td>\n",
       "      <td>1.708563</td>\n",
       "      <td>2878.742898</td>\n",
       "      <td>0.500005</td>\n",
       "      <td>0.500005</td>\n",
       "      <td>0.372819</td>\n",
       "    </tr>\n",
       "    <tr>\n",
       "      <th>min</th>\n",
       "      <td>100025.000000</td>\n",
       "      <td>0.00000</td>\n",
       "      <td>0.000000</td>\n",
       "      <td>0.000000</td>\n",
       "      <td>0.000000</td>\n",
       "      <td>0.000000</td>\n",
       "      <td>0.000000</td>\n",
       "    </tr>\n",
       "    <tr>\n",
       "      <th>25%</th>\n",
       "      <td>323524.250000</td>\n",
       "      <td>25.00000</td>\n",
       "      <td>1.000000</td>\n",
       "      <td>2487.750000</td>\n",
       "      <td>0.000000</td>\n",
       "      <td>0.000000</td>\n",
       "      <td>1.000000</td>\n",
       "    </tr>\n",
       "    <tr>\n",
       "      <th>50%</th>\n",
       "      <td>548147.000000</td>\n",
       "      <td>50.00000</td>\n",
       "      <td>3.000000</td>\n",
       "      <td>4991.500000</td>\n",
       "      <td>1.000000</td>\n",
       "      <td>1.000000</td>\n",
       "      <td>1.000000</td>\n",
       "    </tr>\n",
       "    <tr>\n",
       "      <th>75%</th>\n",
       "      <td>772983.000000</td>\n",
       "      <td>75.00000</td>\n",
       "      <td>4.000000</td>\n",
       "      <td>7471.000000</td>\n",
       "      <td>1.000000</td>\n",
       "      <td>1.000000</td>\n",
       "      <td>1.000000</td>\n",
       "    </tr>\n",
       "    <tr>\n",
       "      <th>max</th>\n",
       "      <td>999995.000000</td>\n",
       "      <td>100.00000</td>\n",
       "      <td>5.000000</td>\n",
       "      <td>10000.000000</td>\n",
       "      <td>1.000000</td>\n",
       "      <td>1.000000</td>\n",
       "      <td>1.000000</td>\n",
       "    </tr>\n",
       "  </tbody>\n",
       "</table>\n",
       "</div>"
      ],
      "text/plain": [
       "             User ID  Retweet Count  Mention Count  Follower Count  \\\n",
       "count   50000.000000    50000.00000   50000.000000    50000.000000   \n",
       "mean   548890.680540       50.00560       2.513760     4988.602380   \n",
       "std    259756.681425       29.18116       1.708563     2878.742898   \n",
       "min    100025.000000        0.00000       0.000000        0.000000   \n",
       "25%    323524.250000       25.00000       1.000000     2487.750000   \n",
       "50%    548147.000000       50.00000       3.000000     4991.500000   \n",
       "75%    772983.000000       75.00000       4.000000     7471.000000   \n",
       "max    999995.000000      100.00000       5.000000    10000.000000   \n",
       "\n",
       "           Verified     Bot Label  Hashtag Count  \n",
       "count  50000.000000  50000.000000   50000.000000  \n",
       "mean       0.500080      0.500360       0.833180  \n",
       "std        0.500005      0.500005       0.372819  \n",
       "min        0.000000      0.000000       0.000000  \n",
       "25%        0.000000      0.000000       1.000000  \n",
       "50%        1.000000      1.000000       1.000000  \n",
       "75%        1.000000      1.000000       1.000000  \n",
       "max        1.000000      1.000000       1.000000  "
      ]
     },
     "execution_count": 24,
     "metadata": {},
     "output_type": "execute_result"
    }
   ],
   "source": [
    "df.describe()"
   ]
  },
  {
   "cell_type": "code",
   "execution_count": 4,
   "id": "daf1fde1-ab68-4858-8f11-a9d65e29d6b3",
   "metadata": {},
   "outputs": [
    {
     "data": {
      "text/plain": [
       "Index(['User ID', 'Username', 'Tweet', 'Retweet Count', 'Mention Count',\n",
       "       'Follower Count', 'Verified', 'Bot Label', 'Location', 'Created At',\n",
       "       'Hashtags'],\n",
       "      dtype='object')"
      ]
     },
     "execution_count": 4,
     "metadata": {},
     "output_type": "execute_result"
    }
   ],
   "source": [
    "df.columns"
   ]
  },
  {
   "cell_type": "code",
   "execution_count": 5,
   "id": "b1fea579-d60d-4c14-896e-04349595a5fe",
   "metadata": {},
   "outputs": [
    {
     "data": {
      "text/plain": [
       "User ID              0\n",
       "Username             0\n",
       "Tweet                0\n",
       "Retweet Count        0\n",
       "Mention Count        0\n",
       "Follower Count       0\n",
       "Verified             0\n",
       "Bot Label            0\n",
       "Location             0\n",
       "Created At           0\n",
       "Hashtags          8341\n",
       "dtype: int64"
      ]
     },
     "execution_count": 5,
     "metadata": {},
     "output_type": "execute_result"
    }
   ],
   "source": [
    "df.isna().sum()"
   ]
  },
  {
   "cell_type": "code",
   "execution_count": 8,
   "id": "04983861-45da-498f-ba1f-f193055350be",
   "metadata": {},
   "outputs": [
    {
     "data": {
      "text/plain": [
       "25018"
      ]
     },
     "execution_count": 8,
     "metadata": {},
     "output_type": "execute_result"
    }
   ],
   "source": [
    "df[\"Bot Label\"].value_counts()[1]"
   ]
  },
  {
   "cell_type": "code",
   "execution_count": 9,
   "id": "c0950a28-1ef5-4e0b-a1e1-2d1db270da7f",
   "metadata": {},
   "outputs": [
    {
     "data": {
      "text/plain": [
       "24982"
      ]
     },
     "execution_count": 9,
     "metadata": {},
     "output_type": "execute_result"
    }
   ],
   "source": [
    "df[\"Bot Label\"].value_counts()[0]"
   ]
  },
  {
   "cell_type": "code",
   "execution_count": 11,
   "id": "6c6ed085-ec1b-4c5b-876a-f33795bfe55b",
   "metadata": {},
   "outputs": [],
   "source": [
    "# preprocessing: turning categorical variables into numerical representations\n",
    "df = df.fillna(0)\n",
    "df['Verified'] = df['Verified'].astype(int)\n",
    "df['Hashtag Count'] = df['Hashtags'].apply(lambda x: len(x.split(',')) if isinstance(x, str) else 0)"
   ]
  },
  {
   "cell_type": "code",
   "execution_count": 18,
   "id": "efc55fcf-9e35-482d-a7ab-d1960a751752",
   "metadata": {},
   "outputs": [
    {
     "data": {
      "text/html": [
       "<div>\n",
       "<style scoped>\n",
       "    .dataframe tbody tr th:only-of-type {\n",
       "        vertical-align: middle;\n",
       "    }\n",
       "\n",
       "    .dataframe tbody tr th {\n",
       "        vertical-align: top;\n",
       "    }\n",
       "\n",
       "    .dataframe thead th {\n",
       "        text-align: right;\n",
       "    }\n",
       "</style>\n",
       "<table border=\"1\" class=\"dataframe\">\n",
       "  <thead>\n",
       "    <tr style=\"text-align: right;\">\n",
       "      <th></th>\n",
       "      <th>User ID</th>\n",
       "      <th>Username</th>\n",
       "      <th>Tweet</th>\n",
       "      <th>Retweet Count</th>\n",
       "      <th>Mention Count</th>\n",
       "      <th>Follower Count</th>\n",
       "      <th>Verified</th>\n",
       "      <th>Bot Label</th>\n",
       "      <th>Location</th>\n",
       "      <th>Created At</th>\n",
       "      <th>Hashtags</th>\n",
       "      <th>Hashtag Count</th>\n",
       "    </tr>\n",
       "  </thead>\n",
       "  <tbody>\n",
       "    <tr>\n",
       "      <th>0</th>\n",
       "      <td>132131</td>\n",
       "      <td>flong</td>\n",
       "      <td>Station activity person against natural majori...</td>\n",
       "      <td>85</td>\n",
       "      <td>1</td>\n",
       "      <td>2353</td>\n",
       "      <td>0</td>\n",
       "      <td>1</td>\n",
       "      <td>Adkinston</td>\n",
       "      <td>2020-05-11 15:29:50</td>\n",
       "      <td>0</td>\n",
       "      <td>0</td>\n",
       "    </tr>\n",
       "    <tr>\n",
       "      <th>1</th>\n",
       "      <td>289683</td>\n",
       "      <td>hinesstephanie</td>\n",
       "      <td>Authority research natural life material staff...</td>\n",
       "      <td>55</td>\n",
       "      <td>5</td>\n",
       "      <td>9617</td>\n",
       "      <td>1</td>\n",
       "      <td>0</td>\n",
       "      <td>Sanderston</td>\n",
       "      <td>2022-11-26 05:18:10</td>\n",
       "      <td>both live</td>\n",
       "      <td>1</td>\n",
       "    </tr>\n",
       "    <tr>\n",
       "      <th>2</th>\n",
       "      <td>779715</td>\n",
       "      <td>roberttran</td>\n",
       "      <td>Manage whose quickly especially foot none to g...</td>\n",
       "      <td>6</td>\n",
       "      <td>2</td>\n",
       "      <td>4363</td>\n",
       "      <td>1</td>\n",
       "      <td>0</td>\n",
       "      <td>Harrisonfurt</td>\n",
       "      <td>2022-08-08 03:16:54</td>\n",
       "      <td>phone ahead</td>\n",
       "      <td>1</td>\n",
       "    </tr>\n",
       "    <tr>\n",
       "      <th>3</th>\n",
       "      <td>696168</td>\n",
       "      <td>pmason</td>\n",
       "      <td>Just cover eight opportunity strong policy which.</td>\n",
       "      <td>54</td>\n",
       "      <td>5</td>\n",
       "      <td>2242</td>\n",
       "      <td>1</td>\n",
       "      <td>1</td>\n",
       "      <td>Martinezberg</td>\n",
       "      <td>2021-08-14 22:27:05</td>\n",
       "      <td>ever quickly new I</td>\n",
       "      <td>1</td>\n",
       "    </tr>\n",
       "    <tr>\n",
       "      <th>4</th>\n",
       "      <td>704441</td>\n",
       "      <td>noah87</td>\n",
       "      <td>Animal sign six data good or.</td>\n",
       "      <td>26</td>\n",
       "      <td>3</td>\n",
       "      <td>8438</td>\n",
       "      <td>0</td>\n",
       "      <td>1</td>\n",
       "      <td>Camachoville</td>\n",
       "      <td>2020-04-13 21:24:21</td>\n",
       "      <td>foreign mention</td>\n",
       "      <td>1</td>\n",
       "    </tr>\n",
       "  </tbody>\n",
       "</table>\n",
       "</div>"
      ],
      "text/plain": [
       "   User ID        Username                                              Tweet  \\\n",
       "0   132131           flong  Station activity person against natural majori...   \n",
       "1   289683  hinesstephanie  Authority research natural life material staff...   \n",
       "2   779715      roberttran  Manage whose quickly especially foot none to g...   \n",
       "3   696168          pmason  Just cover eight opportunity strong policy which.   \n",
       "4   704441          noah87                      Animal sign six data good or.   \n",
       "\n",
       "   Retweet Count  Mention Count  Follower Count  Verified  Bot Label  \\\n",
       "0             85              1            2353         0          1   \n",
       "1             55              5            9617         1          0   \n",
       "2              6              2            4363         1          0   \n",
       "3             54              5            2242         1          1   \n",
       "4             26              3            8438         0          1   \n",
       "\n",
       "       Location           Created At            Hashtags  Hashtag Count  \n",
       "0     Adkinston  2020-05-11 15:29:50                   0              0  \n",
       "1    Sanderston  2022-11-26 05:18:10           both live              1  \n",
       "2  Harrisonfurt  2022-08-08 03:16:54         phone ahead              1  \n",
       "3  Martinezberg  2021-08-14 22:27:05  ever quickly new I              1  \n",
       "4  Camachoville  2020-04-13 21:24:21     foreign mention              1  "
      ]
     },
     "execution_count": 18,
     "metadata": {},
     "output_type": "execute_result"
    }
   ],
   "source": [
    "df.head()"
   ]
  },
  {
   "cell_type": "code",
   "execution_count": 23,
   "id": "abeff927-ca08-4362-b6e7-b527ea505c68",
   "metadata": {
    "scrolled": true
   },
   "outputs": [
    {
     "data": {
      "image/png": "[encoded data removed]",
      "text/plain": [
       "<Figure size 800x600 with 2 Axes>"
      ]
     },
     "metadata": {},
     "output_type": "display_data"
    }
   ],
   "source": [
    "# Correlation matrix\n",
    "\n",
    "import matplotlib.pyplot as plt\n",
    "import seaborn as sns\n",
    "selected = ['Follower Count', 'Retweet Count', 'Mention Count', 'Verified', 'Hashtag Count', 'Bot Label']\n",
    "df_selected = df[selected]\n",
    "corr_matrix = df_selected.corr()\n",
    "plt.figure(figsize=(8, 6))\n",
    "sns.heatmap(corr_matrix, annot=True, cmap='coolwarm', fmt='.2f', linewidths=0.5)\n",
    "plt.title('Correlation Matrix of Selected Features')\n",
    "plt.show()"
   ]
  },
  {
   "cell_type": "code",
   "execution_count": 26,
   "id": "9321b375-e79d-4e86-bf6d-54ad91ce80a4",
   "metadata": {},
   "outputs": [],
   "source": [
    "# logistic regression model\n",
    "import numpy as np\n",
    "from sklearn.model_selection import train_test_split\n",
    "from sklearn.linear_model import LogisticRegression\n",
    "from sklearn.metrics import accuracy_score, classification_report, confusion_matrix\n"
   ]
  },
  {
   "cell_type": "code",
   "execution_count": 27,
   "id": "dfac658f-85cf-4038-9530-9f4cff5dc109",
   "metadata": {},
   "outputs": [],
   "source": [
    "features = ['Follower Count', 'Retweet Count', 'Mention Count', 'Verified', 'Hashtag Count']\n",
    "X = df[features]  # Feature matrix\n",
    "y = df['Bot Label']  # Target variable (0 = human, 1 = bot)"
   ]
  },
  {
   "cell_type": "code",
   "execution_count": 28,
   "id": "1571ea16-4979-442c-aa53-f1104931b7a2",
   "metadata": {},
   "outputs": [
    {
     "name": "stdout",
     "output_type": "stream",
     "text": [
      "Training data shape: (40000, 5), Testing data shape: (10000, 5)\n"
     ]
    }
   ],
   "source": [
    "X_train, X_test, y_train, y_test = train_test_split(X, y, test_size=0.2, random_state=42)\n",
    "\n",
    "print(f\"Training data shape: {X_train.shape}, Testing data shape: {X_test.shape}\")"
   ]
  },
  {
   "cell_type": "code",
   "execution_count": 29,
   "id": "f1382b60-bfbd-4171-b92a-486a16c9efc0",
   "metadata": {},
   "outputs": [],
   "source": [
    "model = LogisticRegression()\n",
    "\n",
    "model.fit(X_train, y_train)\n",
    "\n",
    "y_pred = model.predict(X_test)"
   ]
  },
  {
   "cell_type": "code",
   "execution_count": 30,
   "id": "1bd5de19-d97b-4dd7-9251-dcfc66470098",
   "metadata": {},
   "outputs": [
    {
     "name": "stdout",
     "output_type": "stream",
     "text": [
      "Accuracy: 0.5033\n",
      "              precision    recall  f1-score   support\n",
      "\n",
      "           0       1.00      0.00      0.00      4968\n",
      "           1       0.50      1.00      0.67      5032\n",
      "\n",
      "    accuracy                           0.50     10000\n",
      "   macro avg       0.75      0.50      0.33     10000\n",
      "weighted avg       0.75      0.50      0.34     10000\n",
      "\n",
      "Confusion Matrix:\n",
      "[[   1 4967]\n",
      " [   0 5032]]\n"
     ]
    }
   ],
   "source": [
    "accuracy = accuracy_score(y_test, y_pred)\n",
    "print(f\"Accuracy: {accuracy:.4f}\")\n",
    "\n",
    "# Classification report provides precision, recall, F1-score\n",
    "print(classification_report(y_test, y_pred))\n",
    "\n",
    "# Confusion matrix\n",
    "conf_matrix = confusion_matrix(y_test, y_pred)\n",
    "print(f\"Confusion Matrix:\\n{conf_matrix}\")"
   ]
  },
  {
   "cell_type": "code",
   "execution_count": 31,
   "id": "e4012eaf-9f4c-4a13-9354-30e3aa225d43",
   "metadata": {},
   "outputs": [],
   "source": [
    "# random forest model\n",
    "from sklearn.ensemble import RandomForestClassifier\n"
   ]
  },
  {
   "cell_type": "code",
   "execution_count": 32,
   "id": "9eb46a94-2bf1-4e89-80d5-0fcae9d0cb01",
   "metadata": {},
   "outputs": [
    {
     "name": "stdout",
     "output_type": "stream",
     "text": [
      "Training data shape: (40000, 5), Test data shape: (10000, 5)\n"
     ]
    }
   ],
   "source": [
    "X_train, X_test, y_train, y_test = train_test_split(X, y, test_size=0.2, random_state=42)\n",
    "print(f\"Training data shape: {X_train.shape}, Test data shape: {X_test.shape}\")\n"
   ]
  },
  {
   "cell_type": "code",
   "execution_count": 58,
   "id": "793f712c-55cb-4710-ab9f-0e701d21e3a4",
   "metadata": {},
   "outputs": [],
   "source": [
    "depth_values = list(range(1,101, 10))  # From 10 to 100 in steps of 10\n",
    "accuracy_results = []\n",
    "for a in depth_values:\n",
    "    rf_model = RandomForestClassifier(max_depth=a, random_state=42)\n",
    "    rf_model.fit(X_train, y_train)\n",
    "    y_pred = rf_model.predict(X_test)\n",
    "    accuracy = accuracy_score(y_test, y_pred)\n",
    "    #print(f\"Accuracy: {accuracy:.4f}\")\n",
    "    accuracy_results.append((a,accuracy))\n",
    "    "
   ]
  },
  {
   "cell_type": "code",
   "execution_count": 59,
   "id": "0d02643e-f7b0-43e1-a3ec-b8dc297073e4",
   "metadata": {},
   "outputs": [
    {
     "data": {
      "image/png": "[encoded data removed]",
      "text/plain": [
       "<Figure size 800x600 with 1 Axes>"
      ]
     },
     "metadata": {},
     "output_type": "display_data"
    }
   ],
   "source": [
    "accuracy_df = pd.DataFrame(accuracy_results, columns=['Max Depth', 'Accuracy'])\n",
    "\n",
    "# Plot the accuracy as a function of max_depth\n",
    "plt.figure(figsize=(8, 6))\n",
    "plt.plot(accuracy_df['Max Depth'], accuracy_df['Accuracy'], marker='o', color='b')\n",
    "plt.xlabel('Max Depth')\n",
    "plt.ylabel('Accuracy')\n",
    "plt.title('Accuracy vs Max Depth for Random Forest')\n",
    "plt.grid(True)\n",
    "plt.show()\n"
   ]
  },
  {
   "cell_type": "code",
   "execution_count": 82,
   "id": "ef22cf19-e1ee-41d3-ad9d-f891912feb7c",
   "metadata": {},
   "outputs": [
    {
     "data": {
      "text/plain": [
       "0.75805"
      ]
     },
     "execution_count": 82,
     "metadata": {},
     "output_type": "execute_result"
    }
   ],
   "source": [
    "# training accuracy\n",
    "rf_model = RandomForestClassifier(n_estimators=100, max_depth=15,min_samples_split=10,min_samples_leaf=5, random_state=42)\n",
    "rf_model.fit(X_train, y_train)\n",
    "y_train_pred = rf_model.predict(X_train)\n",
    "train_accuracy = accuracy_score(y_train, y_train_pred)\n",
    "train_accuracy"
   ]
  },
  {
   "cell_type": "code",
   "execution_count": 83,
   "id": "fad47565-0605-428f-a0a8-cf7644b53ab9",
   "metadata": {},
   "outputs": [
    {
     "data": {
      "text/plain": [
       "0.5085"
      ]
     },
     "execution_count": 83,
     "metadata": {},
     "output_type": "execute_result"
    }
   ],
   "source": [
    "y_test_pred = rf_model.predict(X_test)\n",
    "test_accuracy = accuracy_score(y_test, y_test_pred)\n",
    "test_accuracy"
   ]
  },
  {
   "cell_type": "code",
   "execution_count": null,
   "id": "bf7f9c31-0aae-4a25-9981-34af12471513",
   "metadata": {},
   "outputs": [],
   "source": []
  },
  {
   "cell_type": "code",
   "execution_count": null,
   "id": "b41736c1-7121-4e19-96eb-939e18154abb",
   "metadata": {},
   "outputs": [],
   "source": []
  }
 ],
 "metadata": {
  "kernelspec": {
   "display_name": "Python 3 (ipykernel)",
   "language": "python",
   "name": "python3"
  },
  "language_info": {
   "codemirror_mode": {
    "name": "ipython",
    "version": 3
   },
   "file_extension": ".py",
   "mimetype": "text/x-python",
   "name": "python",
   "nbconvert_exporter": "python",
   "pygments_lexer": "ipython3",
   "version": "3.11.7"
  }
 },
 "nbformat": 4,
 "nbformat_minor": 5
}
